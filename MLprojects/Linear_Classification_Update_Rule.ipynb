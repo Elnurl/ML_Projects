{
 "cells": [
  {
   "cell_type": "code",
   "execution_count": 4,
   "metadata": {},
   "outputs": [],
   "source": [
    "import numpy as np\n",
    "\n",
    "class PerceptronClass:\n",
    "\n",
    "    def __init__(self, learning_rate=0.01, num_iters=1000):\n",
    "        self.weights = None\n",
    "        self.bias = None\n",
    "        self.num_iterations = num_iters\n",
    "        self.lr = learning_rate\n",
    "\n",
    "    def _unit_step_func(self, x):\n",
    "        return np.where(x >= 0, 1, 0)\n",
    "\n",
    "    def fit(self, X, y):\n",
    "        n_samples, n_features = X.shape\n",
    "\n",
    "        # init parameters\n",
    "        self.weights = np.zeros(n_features)\n",
    "        self.bias = 0\n",
    "\n",
    "        y_ = np.array([1 if i > 0 else 0 for i in y])\n",
    "\n",
    "        for _ in range(self.num_iterations):\n",
    "\n",
    "            for idx, x_i in enumerate(X):\n",
    "\n",
    "                linear_output = np.dot(x_i, self.weights) + self.bias\n",
    "                y_predicted = self._unit_step_func(linear_output)\n",
    "\n",
    "                # Perceptron weight update rule:\n",
    "                # weight := weight - learning_rate*(error)\n",
    "                update = self.lr * (y_predicted - y_[idx])\n",
    "\n",
    "                self.weights -= update * x_i\n",
    "                self.bias -= update\n",
    "\n",
    "    def predict(self, X):\n",
    "        linear_output = np.dot(X, self.weights) + self.bias\n",
    "        y_predicted = self._unit_step_func(linear_output)\n",
    "        return y_predicted"
   ]
  },
  {
   "cell_type": "code",
   "execution_count": 5,
   "metadata": {},
   "outputs": [
    {
     "name": "stdout",
     "output_type": "stream",
     "text": [
      "Training Accuracy:  0.6583333333333333\n",
      "Testing Accuracy:  0.7\n"
     ]
    }
   ],
   "source": [
    "\n",
    "from sklearn.datasets import load_iris\n",
    "from sklearn.model_selection import train_test_split\n",
    "from sklearn.metrics import accuracy_score\n",
    "\n",
    "data = load_iris()\n",
    "X, y = data.data, data.target\n",
    "X_train, X_test, Y_train, Y_test = train_test_split(X,y, test_size=0.2)\n",
    "\n",
    "perceptron = PerceptronClass()\n",
    "perceptron.fit(X_train,Y_train)\n",
    "\n",
    "y_predicted = perceptron.predict(X_test)\n",
    "y_predicted_train = perceptron.predict(X_train)\n",
    "\n",
    "acc = accuracy_score(y_predicted,Y_test)\n",
    "train_acc = accuracy_score(y_predicted_train,Y_train)\n",
    "\n",
    "print(\"Training Accuracy: \", train_acc)\n",
    "print(\"Testing Accuracy: \", acc)"
   ]
  }
 ],
 "metadata": {
  "kernelspec": {
   "display_name": "Python 3",
   "language": "python",
   "name": "python3"
  },
  "language_info": {
   "codemirror_mode": {
    "name": "ipython",
    "version": 3
   },
   "file_extension": ".py",
   "mimetype": "text/x-python",
   "name": "python",
   "nbconvert_exporter": "python",
   "pygments_lexer": "ipython3",
   "version": "3.11.4"
  },
  "orig_nbformat": 4
 },
 "nbformat": 4,
 "nbformat_minor": 2
}
